{
 "cells": [
  {
   "cell_type": "code",
   "execution_count": null,
   "metadata": {},
   "outputs": [],
   "source": []
  },
  {
   "cell_type": "code",
   "execution_count": 1,
   "metadata": {},
   "outputs": [],
   "source": [
    "def Anchura():\n",
    "    abierto = estado_inicial\n",
    "    cerrado = None\n",
    "\n",
    "    while ( len(cerrado) > 0 ) :\n",
    "        nodo_actual = extraer_primero(abierto)\n",
    "        cerrado = nodo_actual\n",
    "        if (estadoFinal(nodo_actual)):\n",
    "            return Camino(nodo_actual)\n",
    "        else:\n",
    "            sucesores(nodo_actual)\n",
    "            gerstionar_cola(abierto, sucesores)"
   ]
  },
  {
   "cell_type": "code",
   "execution_count": null,
   "metadata": {},
   "outputs": [],
   "source": [
    "\"\"\"BUSQUEDA EN ANCHURA\"\"\"\n",
    "\n",
    "# Comienza seleccionando la primera celda vacia en la primera fila de izquierda a derecha\n",
    "\n",
    "# Para la celda, genera todas las posibles asignaciones de numeros que cumplan las reglas del sudoku\n",
    "\n",
    "# Seleccionamos uno de los valores posibles, y avanzamos a la siguiente celda de la misma fila\n",
    "\n",
    "# Repetimos el proceso hasta que no tenemos ningun valor posible\n",
    "\n",
    "# En caso de no haber ningun valor porsible, retrocedemos a la celda anterior y probamos otra asignacion \n",
    "\n",
    "# Condicion de parada: cuando se ha llenado el tablero y tenemos una solucion valida; o cuando concluimos que no tiene solucion posibleç\n"
   ]
  },
  {
   "cell_type": "code",
   "execution_count": 1,
   "metadata": {},
   "outputs": [],
   "source": [
    "grid1 = \"003020600900305001001806400008102900700000008006708200002609500800203009005010300\""
   ]
  },
  {
   "cell_type": "code",
   "execution_count": 2,
   "metadata": {},
   "outputs": [],
   "source": [
    "def cross(A, B):\n",
    "    \"Cross product of elements in A and elements in B.\"\n",
    "    return [a+b for a in A for b in B]\n",
    "\n",
    "digits   = '123456789'\n",
    "rows     = 'ABCDEFGHI'\n",
    "cols     = digits\n",
    "squares  = cross(rows, cols)\n",
    "unitlist = ([cross(rows, c) for c in cols] +\n",
    "            [cross(r, cols) for r in rows] +\n",
    "            [cross(rs, cs) for rs in ('ABC','DEF','GHI') for cs in ('123','456','789')])\n",
    "units = dict((s, [u for u in unitlist if s in u]) \n",
    "             for s in squares)\n",
    "peers = dict((s, set(sum(units[s],[]))-set([s]))\n",
    "             for s in squares)"
   ]
  },
  {
   "cell_type": "code",
   "execution_count": 3,
   "metadata": {},
   "outputs": [],
   "source": [
    "def grid_values(grid):\n",
    "    \"Convert grid into a dict of {square: char} with '0' or '.' for empties.\"\n",
    "    chars = [c for c in grid if c in digits or c in '0.']\n",
    "    assert len(chars) == 81\n",
    "    return dict(zip(squares, chars))"
   ]
  },
  {
   "cell_type": "code",
   "execution_count": 11,
   "metadata": {},
   "outputs": [],
   "source": [
    "def parse_grid(grid):\n",
    "    \"\"\"Convert grid to a dict of possible values, {square: digits}, or\n",
    "    return False if a contradiction is detected.\"\"\"\n",
    "    ## To start, every square can be any digit; then assign values from the grid.\n",
    "    values = dict((s, digits) for s in squares)\n",
    "    for s,d in grid_values(grid).items():\n",
    "        if d in digits and not assign(values, s, d):\n",
    "            return False ## (Fail if we can't assign d to square s.)\n",
    "    return values"
   ]
  },
  {
   "cell_type": "code",
   "execution_count": null,
   "metadata": {},
   "outputs": [],
   "source": [
    "def assign(values, s, d):\n",
    "    other_values = values[s].replace(d, \"\")\n",
    "    if all(elminate(values, s, d2) for d2 in other_values):\n",
    "        return values \n",
    "    else:\n",
    "        return False\n",
    "    "
   ]
  },
  {
   "cell_type": "code",
   "execution_count": 8,
   "metadata": {},
   "outputs": [],
   "source": [
    "def assign(values, s, d):\n",
    "    \"\"\"Eliminate all the other values (except d) from values[s] and propagate.\n",
    "    Return values, except return False if a contradiction is detected.\"\"\"\n",
    "    other_values = values[s].replace(d, \"\")\n",
    "    if all( eliminate(values, s, d2) for d2 in other_values ):\n",
    "        return values\n",
    "    else:\n",
    "        return False"
   ]
  },
  {
   "cell_type": "code",
   "execution_count": 7,
   "metadata": {},
   "outputs": [],
   "source": [
    "def eliminate(values, s, d):\n",
    "\n",
    "    if d not in values[s]:\n",
    "        return values\n",
    "    \n",
    "    values[s] = values[s].replace(d, \"\")\n",
    "\n",
    "    if len(values[s]) == 0:\n",
    "        return  False\n",
    "    \n",
    "    if len(values[s]) == 1:\n",
    "        d2 = values[s]\n",
    "        if not all( eliminate(values, s2, d2) for s2 in peers[s] ):\n",
    "            return False\n",
    "        \n",
    "    for u in units[s]:\n",
    "        dplaces = [s for s in u if d in values[s]]\n",
    "        if len (dplaces) == 0:    \n",
    "            return False\n",
    "        elif len(dplaces) == 1:\n",
    "            if not assign(values, dplaces[0], d):\n",
    "                return False\n",
    "            \n",
    "    return values"
   ]
  },
  {
   "cell_type": "code",
   "execution_count": null,
   "metadata": {},
   "outputs": [],
   "source": [
    "\"\"\"def eliminate(values, s, d):\n",
    "    Eliminate d from values[s]; propagate when values or places <= 2.\n",
    "    Return values, except return False if a contradiction is detected.\n",
    "\n",
    "    if d not in values[s]:\n",
    "        return values ## Already eliminated\n",
    "    \n",
    "    values[s] = values[s].replace(d,'')\n",
    "\n",
    "    ## (1) If a square s is reduced to one value d2, then eliminate d2 from the peers.\n",
    "    if len(values[s]) == 0:\n",
    "\t    return False ## Contradiction: removed last value\n",
    "    \n",
    "    if(len(values[s]) == 1):\n",
    "        d2 = values[s]\n",
    "        if not all(eliminate(values, s2, d2) for s2 in peers[s]):\n",
    "            return False\n",
    "    ## (2) If a unit u is reduced to only one place for a value d, then put it there.\n",
    "    for u in units[s]:\n",
    "\t    dplaces = [s for s in u if d in values[s]]\n",
    "\t    if len(dplaces) == 0:\n",
    "\t            return False ## Contradiction: no place for this value\n",
    "\t    elif(len(dplaces) == 1):\n",
    "\t    # d can only be in one place in unit; assign it there\n",
    "            if not assign(values, dplaces[0], d):\n",
    "                return False\n",
    "    return values\"\"\""
   ]
  },
  {
   "cell_type": "code",
   "execution_count": 9,
   "metadata": {},
   "outputs": [],
   "source": [
    "\n",
    "def display(values):\n",
    "    \"Display these values as a 2-D grid.\"\n",
    "    width = 1+max(len(values[s]) for s in squares)\n",
    "    line = '+'.join(['-'*(width*3)]*3)\n",
    "    for r in rows:\n",
    "        print (''.join(values[r+c].center(width)+('|' if c in '36' else ''))\n",
    "                      for c in cols)\n",
    "        if r in 'CF': print (line)\n",
    "    "
   ]
  },
  {
   "cell_type": "code",
   "execution_count": 12,
   "metadata": {},
   "outputs": [
    {
     "data": {
      "text/plain": [
       "{'A1': '4',\n",
       " 'A2': '8',\n",
       " 'A3': '3',\n",
       " 'A4': '9',\n",
       " 'A5': '2',\n",
       " 'A6': '1',\n",
       " 'A7': '6',\n",
       " 'A8': '5',\n",
       " 'A9': '7',\n",
       " 'B1': '9',\n",
       " 'B2': '6',\n",
       " 'B3': '7',\n",
       " 'B4': '3',\n",
       " 'B5': '4',\n",
       " 'B6': '5',\n",
       " 'B7': '8',\n",
       " 'B8': '2',\n",
       " 'B9': '1',\n",
       " 'C1': '2',\n",
       " 'C2': '5',\n",
       " 'C3': '1',\n",
       " 'C4': '8',\n",
       " 'C5': '7',\n",
       " 'C6': '6',\n",
       " 'C7': '4',\n",
       " 'C8': '9',\n",
       " 'C9': '3',\n",
       " 'D1': '5',\n",
       " 'D2': '4',\n",
       " 'D3': '8',\n",
       " 'D4': '1',\n",
       " 'D5': '3',\n",
       " 'D6': '2',\n",
       " 'D7': '9',\n",
       " 'D8': '7',\n",
       " 'D9': '6',\n",
       " 'E1': '7',\n",
       " 'E2': '2',\n",
       " 'E3': '9',\n",
       " 'E4': '5',\n",
       " 'E5': '6',\n",
       " 'E6': '4',\n",
       " 'E7': '1',\n",
       " 'E8': '3',\n",
       " 'E9': '8',\n",
       " 'F1': '1',\n",
       " 'F2': '3',\n",
       " 'F3': '6',\n",
       " 'F4': '7',\n",
       " 'F5': '9',\n",
       " 'F6': '8',\n",
       " 'F7': '2',\n",
       " 'F8': '4',\n",
       " 'F9': '5',\n",
       " 'G1': '3',\n",
       " 'G2': '7',\n",
       " 'G3': '2',\n",
       " 'G4': '6',\n",
       " 'G5': '8',\n",
       " 'G6': '9',\n",
       " 'G7': '5',\n",
       " 'G8': '1',\n",
       " 'G9': '4',\n",
       " 'H1': '8',\n",
       " 'H2': '1',\n",
       " 'H3': '4',\n",
       " 'H4': '2',\n",
       " 'H5': '5',\n",
       " 'H6': '3',\n",
       " 'H7': '7',\n",
       " 'H8': '6',\n",
       " 'H9': '9',\n",
       " 'I1': '6',\n",
       " 'I2': '9',\n",
       " 'I3': '5',\n",
       " 'I4': '4',\n",
       " 'I5': '1',\n",
       " 'I6': '7',\n",
       " 'I7': '3',\n",
       " 'I8': '8',\n",
       " 'I9': '2'}"
      ]
     },
     "execution_count": 12,
     "metadata": {},
     "output_type": "execute_result"
    }
   ],
   "source": [
    "parse_grid(grid1)"
   ]
  },
  {
   "cell_type": "code",
   "execution_count": 18,
   "metadata": {},
   "outputs": [
    {
     "data": {
      "text/plain": [
       "[['A6', 'B6', 'C6', 'D6', 'E6', 'F6', 'G6', 'H6', 'I6'],\n",
       " ['I1', 'I2', 'I3', 'I4', 'I5', 'I6', 'I7', 'I8', 'I9'],\n",
       " ['G4', 'G5', 'G6', 'H4', 'H5', 'H6', 'I4', 'I5', 'I6']]"
      ]
     },
     "execution_count": 18,
     "metadata": {},
     "output_type": "execute_result"
    }
   ],
   "source": [
    "units['I6']"
   ]
  },
  {
   "cell_type": "code",
   "execution_count": 22,
   "metadata": {},
   "outputs": [
    {
     "ename": "TypeError",
     "evalue": "list indices must be integers or slices, not str",
     "output_type": "error",
     "traceback": [
      "\u001b[1;31m---------------------------------------------------------------------------\u001b[0m",
      "\u001b[1;31mTypeError\u001b[0m                                 Traceback (most recent call last)",
      "Cell \u001b[1;32mIn[22], line 1\u001b[0m\n\u001b[1;32m----> 1\u001b[0m \u001b[43munitlist\u001b[49m\u001b[43m[\u001b[49m\u001b[38;5;124;43m'\u001b[39;49m\u001b[38;5;124;43mI6\u001b[39;49m\u001b[38;5;124;43m'\u001b[39;49m\u001b[43m]\u001b[49m\n",
      "\u001b[1;31mTypeError\u001b[0m: list indices must be integers or slices, not str"
     ]
    }
   ],
   "source": [
    "unitlist['I6']"
   ]
  },
  {
   "cell_type": "code",
   "execution_count": null,
   "metadata": {},
   "outputs": [],
   "source": []
  },
  {
   "cell_type": "code",
   "execution_count": null,
   "metadata": {},
   "outputs": [],
   "source": [
    "class Nodo:\n",
    "    def __init__(self, estado, accion):\n",
    "        self.estado = estado\n",
    "        self.accion = accion\n",
    "        self.nodo_padre\n",
    "        self.coste\n",
    "        self.frontera\n",
    "        self.abierto\n",
    "        \n"
   ]
  },
  {
   "cell_type": "code",
   "execution_count": null,
   "metadata": {},
   "outputs": [],
   "source": [
    "class Problema:\n",
    "    def __init__(self, estado_inicial):\n",
    "        self.estado_inicial = estado_inicial\n",
    "\n",
    "\n",
    "    def accionesPosibles(self, estado):\n",
    "        "
   ]
  }
 ],
 "metadata": {
  "kernelspec": {
   "display_name": ".venv",
   "language": "python",
   "name": "python3"
  },
  "language_info": {
   "codemirror_mode": {
    "name": "ipython",
    "version": 3
   },
   "file_extension": ".py",
   "mimetype": "text/x-python",
   "name": "python",
   "nbconvert_exporter": "python",
   "pygments_lexer": "ipython3",
   "version": "3.12.3"
  }
 },
 "nbformat": 4,
 "nbformat_minor": 2
}
