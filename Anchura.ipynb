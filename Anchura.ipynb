{
 "cells": [
  {
   "cell_type": "code",
   "execution_count": null,
   "metadata": {},
   "outputs": [],
   "source": [
    "class Problema:\n",
    "\n",
    "    def __init__(self, estado_inicial):\n",
    "        self.estado_inicial = estado_inicial\n",
    "\n",
    "    def posiblesValores(self, valores, no_disponibles):\n",
    "        pass\n",
    "\n",
    "    def siguienteCelda(self, estado):\n",
    "        pass\n",
    "\n",
    "    def acciones(self, estado):\n",
    "        pass\n",
    "\n",
    "    def resultadoAccion(self, estado, accion):\n",
    "        pass\n",
    "\n",
    "    def comprobarLegal(self, estado):\n",
    "        pass\n",
    "\n",
    "    "
   ]
  }
 ],
 "metadata": {
  "language_info": {
   "name": "python"
  }
 },
 "nbformat": 4,
 "nbformat_minor": 2
}
